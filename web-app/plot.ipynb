{
 "cells": [
  {
   "cell_type": "code",
   "execution_count": null,
   "metadata": {},
   "outputs": [],
   "source": [
    "import seaborn as sn\n",
    "import nunpy as np\n",
    "import pandas  as pd\n",
    "import matplotlib as plt\n",
    "\n",
    " "
   ]
  },
  {
   "cell_type": "code",
   "execution_count": null,
   "metadata": {},
   "outputs": [],
   "source": [
    "from pandas import Timestamp\n",
    "\n",
    "\n",
    "def sound_plot(data_anomalies):\n",
    "    sns.set_theme(style=\"whitegrid\", fontsize = 14)\n",
    "    ## grafico dei rumori forti nel giorno odierno\n",
    "    data = data_anomalies[ data_anomalies['day'] == Timestamp.now().day]\n",
    "    sns.lineplot(x=\"time\", y=\"value\", hue=\"variable\", data=data)\n",
    "\n",
    "    plt.savefig(img, format='png')"
   ]
  },
  {
   "cell_type": "code",
   "execution_count": null,
   "metadata": {},
   "outputs": [],
   "source": [
    "def heart_plot(data_anomalies):\n",
    "    sns.set_theme(style=\"whitegrid\", fontsize = 14)\n",
    "    ## grafico dei battiti cardiaci nel giorno odierno\n",
    "    data = data_anomalies[ data_anomalies['day'] == Timestamp.now().day]\n",
    "    sns.lineplot(x=\"time\", y=\"value\", hue=\"variable\", data=data)\n",
    "\n",
    "    plt.savefig(img, format='png')"
   ]
  }
 ],
 "metadata": {
  "language_info": {
   "name": "python"
  }
 },
 "nbformat": 4,
 "nbformat_minor": 2
}
