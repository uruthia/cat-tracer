{
 "cells": [
  {
   "cell_type": "code",
   "execution_count": 8,
   "metadata": {},
   "outputs": [],
   "source": [
    "import seaborn as sns\n",
    "import numpy as np\n",
    "import pandas  as pd\n",
    "import matplotlib as plt\n",
    "import io\n",
    "import base64\n",
    "from pandas import Timestamp\n",
    "from flask import send_file"
   ]
  },
  {
   "cell_type": "code",
   "execution_count": 9,
   "metadata": {},
   "outputs": [],
   "source": [
    "\n",
    "\n",
    "\n",
    "def plot(data_anomalies):\n",
    "    data_anomalies['day'] = data_anomalies['timestamp'].dt.day\n",
    "    data_anomalies['time'] = data_anomalies['timestamp'].dt.time\n",
    "    #2 grafici: uno per i rumori forti e uno per i rumori deboli\n",
    "    #grafico rumori deboli\n",
    "    \n",
    "    fig, (ax1, ax2) = plt.subplots(nrows=1, ncols=2, figsize=(15, 10))\n",
    "    sns.set_theme(style=\"whitegrid\", fontsize = 14)\n",
    "    \n",
    "    ## grafico dei rumori forti nel giorno odierno\n",
    "    sound_df = data_anomalies[ [data_anomalies['day'] == Timestamp.now().day,  data_anomalies['type'] == 'sound'] ]\n",
    "    sns.lineplot(x=\"timestamp\", y=\"value\", hue=\"variable\", data=sound_df, ax=ax1)\n",
    "\n",
    "    heart_df = data_anomalies[ [data_anomalies['day'] == Timestamp.now().day,  data_anomalies['type'] == 'heart_rate'] ]\n",
    "    sns.lineplot(x=\"timestamp\", y=\"value\", hue=\"variable\", data=heart_df, ax=ax2)\n",
    "\n",
    "    img = io.BytesIO()\n",
    "    plt.savefig(img, format='png')\n",
    "    img.seek(0)\n",
    "    plt.close(fig)\n",
    "    return send_file(img, mimetype='image/png')"
   ]
  }
 ],
 "metadata": {
  "kernelspec": {
   "display_name": "Python 3",
   "language": "python",
   "name": "python3"
  },
  "language_info": {
   "codemirror_mode": {
    "name": "ipython",
    "version": 3
   },
   "file_extension": ".py",
   "mimetype": "text/x-python",
   "name": "python",
   "nbconvert_exporter": "python",
   "pygments_lexer": "ipython3",
   "version": "3.12.1"
  }
 },
 "nbformat": 4,
 "nbformat_minor": 2
}
